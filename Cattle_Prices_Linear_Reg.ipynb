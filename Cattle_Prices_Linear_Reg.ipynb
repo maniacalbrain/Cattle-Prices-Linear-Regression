{
 "metadata": {
  "name": "",
  "signature": "sha256:ab3c817a509a428de164a1ea40c4ba3be1b551c96a4c80ee72ff7f03634b1824"
 },
 "nbformat": 3,
 "nbformat_minor": 0,
 "worksheets": [
  {
   "cells": [
    {
     "cell_type": "code",
     "collapsed": false,
     "input": [
      "#All prices taken from http://www.ballinasloemart.ie/cattle-sales from the bullock sales each Wednesday. The only editing of the data is \n",
      "#to concat double names, ie BELGIAN BLUE inserted into text file as BELGIAN_BLUE\n",
      "import pandas as pd\n",
      "import numpy as np\n",
      "import re\n",
      "\n",
      "cows = open(\"Ballinasloe_Bulls.txt\", \"r\")\n",
      "cows_header = [\"Breed\", \"Lot\", \"Weight\", \"Price\"]\n",
      "cows = pd.read_csv(cows, header=None, delimiter=r\"\\s+\", names = cows_header) #read in text file, split on spaces, use cows_header as header\n",
      "cows = cows.drop(\"Lot\", axis=1) #Drop lot number\n",
      "\n",
      "Breeds = list(np.unique(cows[\"Breed\"]))\n",
      "cows[\"Color_ID\"] = map(lambda x: Breeds.index(x), cows[\"Breed\"]) #Color_ID to allow for coloring of scatter plot.\n",
      "print cows.info()"
     ],
     "language": "python",
     "metadata": {},
     "outputs": [
      {
       "output_type": "stream",
       "stream": "stdout",
       "text": [
        "<class 'pandas.core.frame.DataFrame'>\n",
        "Int64Index: 80 entries, 0 to 79\n",
        "Data columns (total 4 columns):\n",
        "Breed       80 non-null object\n",
        "Weight      80 non-null object\n",
        "Price       80 non-null float64\n",
        "Color_ID    80 non-null int64\n",
        "dtypes: float64(1), int64(1), object(2)None\n"
       ]
      }
     ],
     "prompt_number": 1
    },
    {
     "cell_type": "code",
     "collapsed": false,
     "input": [
      "cows = cows[cows.Weight != \"-\"] # remove rows where weight is not given \n",
      "cows.reset_index(drop=True, inplace=True)\n",
      "cows['Weight'] = cows['Weight'].astype(float) #cows.summary() shows Weight as an object\n",
      "cows['Price'] = cows['Price'].astype(float)\n",
      "print cows.head()"
     ],
     "language": "python",
     "metadata": {},
     "outputs": [
      {
       "output_type": "stream",
       "stream": "stdout",
       "text": [
        "       Breed  Weight  Price  Color_ID\n",
        "0  CHAROLAIS     855   1950         2\n",
        "1  CHAROLAIS     840   1900         2\n",
        "2  CHAROLAIS     785   1850         2\n",
        "3  CHAROLAIS     750   1750         2\n",
        "4  CHAROLAIS     745   1640         2\n"
       ]
      }
     ],
     "prompt_number": 2
    },
    {
     "cell_type": "code",
     "collapsed": false,
     "input": [
      "import matplotlib.pyplot as plt\n",
      "%pylab inline\n",
      "\n",
      "#Plot the data\n",
      "plt.scatter(cows.Weight, cows.Price, marker='o', c=cows.Color_ID)\n",
      "plt.title('Cattle Prices')\n",
      "plt.xlabel('Weight (kgs)')\n",
      "plt.ylabel('Price')\n",
      "plt.show()"
     ],
     "language": "python",
     "metadata": {},
     "outputs": [
      {
       "output_type": "stream",
       "stream": "stdout",
       "text": [
        "Populating the interactive namespace from numpy and matplotlib\n"
       ]
      },
      {
       "metadata": {},
       "output_type": "display_data",
       "png": "[encoded data removed]",
       "text": [
        "<matplotlib.figure.Figure at 0xb87e7b8>"
       ]
      }
     ],
     "prompt_number": 3
    },
    {
     "cell_type": "code",
     "collapsed": false,
     "input": [
      "X = cows.ix[:,1] #Weights column\n",
      "y = cows.ix[:,2] #Price column\n",
      "\n",
      "#Very simplistic normalisation to allow gradient descent converge. Without this convergance would still not be reached after 150,000 \n",
      "#iterations using an alpha of 0.0000000001\n",
      "X = X/1000\n",
      "y = y/1000\n",
      "\n",
      "#number of training samples\n",
      "m = y.size\n",
      "\n",
      "#Add a column of ones to X(to represent the intercept)\n",
      "it = np.ones(shape=(m, 2))\n",
      "it[:, 1] = X\n",
      "\n",
      "y = np.array(y)#.reshape((m,1)).flatten()\n",
      "\n",
      "\n",
      "#Initialise theta parameters(shape = (number of factors, 1))\n",
      "theta = np.zeros(shape=(2,1))\n",
      "\n",
      "#Gradient descent settings\n",
      "iterations = 750\n",
      "alpha = .1"
     ],
     "language": "python",
     "metadata": {},
     "outputs": [],
     "prompt_number": 4
    },
    {
     "cell_type": "code",
     "collapsed": false,
     "input": [
      "#Comput cost for linear regression, taken fro http://aimotion.blogspot.ie/2011/10/machine-learning-with-python-linear.html\n",
      "\n",
      "def compute_cost(X, y, theta):\n",
      "    #Number of training samples\n",
      "    m = y.size\n",
      "    predictions = X.dot(theta).flatten()\n",
      "    sqErrors = (predictions - y) ** 2\n",
      "    J = (1.0/(2*m)) * sqErrors.sum()\n",
      "    return J\n",
      "\n",
      "\n",
      "def gradient_descent(X, y, theta, alpha, num_iters):\n",
      "    #Peforms gradient descent to learn theta by taking num_items gradient steps with learning rate alpha\n",
      "    \n",
      "    m = y.size\n",
      "    J_history = zeros(shape=(num_iters, 1))\n",
      "    \n",
      "    for i in range(num_iters):\n",
      "        predictions = X.dot(theta).flatten()\n",
      "        \n",
      "        errors_x1 = (predictions - y) * X[:, 0]\n",
      "        errors_x2 = (predictions - y) * X[:, 1]\n",
      "\n",
      "        \n",
      "        theta[0][0] = theta[0][0] - alpha * (1.0/m) * errors_x1.sum()\n",
      "        theta[1][0] = theta[1][0] - alpha * (1.0/m) * errors_x2.sum()\n",
      "        \n",
      "        J_history[i, 0] = compute_cost(X, y, theta)\n",
      " \n",
      "    return theta, J_history"
     ],
     "language": "python",
     "metadata": {},
     "outputs": [],
     "prompt_number": 5
    },
    {
     "cell_type": "code",
     "collapsed": false,
     "input": [
      "theta, J_history = gradient_descent(it, y, theta, alpha, iterations)"
     ],
     "language": "python",
     "metadata": {},
     "outputs": [],
     "prompt_number": 6
    },
    {
     "cell_type": "code",
     "collapsed": false,
     "input": [
      "print theta #[ sklearn returns coefficient -[ 1.28414073]]  intercept -[ 744.18055767] "
     ],
     "language": "python",
     "metadata": {},
     "outputs": [
      {
       "output_type": "stream",
       "stream": "stdout",
       "text": [
        "[[ 0.95322494]\n",
        " [ 0.9977002 ]]\n"
       ]
      }
     ],
     "prompt_number": 7
    },
    {
     "cell_type": "code",
     "collapsed": false,
     "input": [
      "#Display last 10 entries to see if convergance is reached\n",
      "print J_history[-10:]"
     ],
     "language": "python",
     "metadata": {},
     "outputs": [
      {
       "output_type": "stream",
       "stream": "stdout",
       "text": [
        "[[ 0.00215738]\n",
        " [ 0.00215675]\n",
        " [ 0.00215611]\n",
        " [ 0.00215548]\n",
        " [ 0.00215485]\n",
        " [ 0.00215422]\n",
        " [ 0.00215358]\n",
        " [ 0.00215295]\n",
        " [ 0.00215233]\n",
        " [ 0.0021517 ]]\n"
       ]
      }
     ],
     "prompt_number": 8
    },
    {
     "cell_type": "code",
     "collapsed": false,
     "input": [
      "plt.plot(range(iterations), J_history[:])\n",
      "plt.xlabel('Iterations')\n",
      "plt.ylabel('J')\n",
      "plt.show()"
     ],
     "language": "python",
     "metadata": {},
     "outputs": [
      {
       "metadata": {},
       "output_type": "display_data",
       "png": "[encoded data removed]",
       "text": [
        "<matplotlib.figure.Figure at 0xb9d5208>"
       ]
      }
     ],
     "prompt_number": 9
    },
    {
     "cell_type": "code",
     "collapsed": false,
     "input": [
      "predict1 = array([1, .700]).dot(theta).flatten()*1000\n",
      "print '%f' % (predict1)\n",
      "predict2 = array([1, .900]).dot(theta).flatten()*1000\n",
      "print '%f' % (predict2)"
     ],
     "language": "python",
     "metadata": {},
     "outputs": [
      {
       "output_type": "stream",
       "stream": "stdout",
       "text": [
        "1651.615082\n",
        "1851.155122\n"
       ]
      }
     ],
     "prompt_number": 10
    },
    {
     "cell_type": "code",
     "collapsed": false,
     "input": [
      "plt.scatter(cows.Weight, cows.Price, marker='o', c=cows.Color_ID)\n",
      "plt.title('Cattle Prices Per Weight')\n",
      "plt.xlabel('Weight (kgs)')\n",
      "plt.ylabel('Price')\n",
      "\n",
      "predicted_weights = []\n",
      "\n",
      "for weight in X:\n",
      "    predicted = array([1, weight]).dot(theta).flatten()*1000\n",
      "    predicted_weights.append(predicted[0])\n",
      "    \n",
      "plt.plot(X*1000, predicted_weights, color='black') #Gradient Descent\n",
      "\n",
      "plt.show()"
     ],
     "language": "python",
     "metadata": {},
     "outputs": [
      {
       "metadata": {},
       "output_type": "display_data",
       "png": "[encoded data removed]",
       "text": [
        "<matplotlib.figure.Figure at 0xba97e48>"
       ]
      }
     ],
     "prompt_number": 11
    },
    {
     "cell_type": "code",
     "collapsed": false,
     "input": [
      "#My personaly perfered method for linear regression, matrix form\n",
      "#results identical to sklearn\n",
      "\n",
      "X = cows.ix[:,1]\n",
      "y = cows.ix[:,2]\n",
      "\n",
      "#number of training samples\n",
      "m = y.size\n",
      "\n",
      "#Add a column of ones to X(to represent the intercept)\n",
      "it = np.ones(shape=(m, 2))\n",
      "it[:, 1] = X\n",
      "\n",
      "thetas2 = np.dot(np.linalg.inv(np.dot(it.transpose(), it)), np.dot(it.transpose(),  y))\n",
      "\n",
      "y_hat = np.dot(it, thetas2) #multiply it (row of 1s + X) by thetas2\n",
      "err = (y_hat - y)**2\n",
      "err = err.sum(axis = 0)/m"
     ],
     "language": "python",
     "metadata": {},
     "outputs": [],
     "prompt_number": 12
    },
    {
     "cell_type": "code",
     "collapsed": false,
     "input": [
      "print thetas2\n",
      "print err"
     ],
     "language": "python",
     "metadata": {},
     "outputs": [
      {
       "output_type": "stream",
       "stream": "stdout",
       "text": [
        "[ 765.32711154    1.2596269 ]\n",
        "3496.1253383\n"
       ]
      }
     ],
     "prompt_number": 13
    },
    {
     "cell_type": "code",
     "collapsed": false,
     "input": [
      "plt.scatter(cows.Weight, cows.Price, marker='o', c=cows.Color_ID)\n",
      "plt.title('Cattle Prices Per Weight')\n",
      "plt.xlabel('Weight (kgs)')\n",
      "plt.ylabel('Price')\n",
      "\n",
      "plt.plot(cows.Weight, y_hat) #Matrix multiplication\n",
      "\n",
      "plt.show()"
     ],
     "language": "python",
     "metadata": {},
     "outputs": [
      {
       "metadata": {},
       "output_type": "display_data",
       "png": "[encoded data removed]",
       "text": [
        "<matplotlib.figure.Figure at 0xb998048>"
       ]
      }
     ],
     "prompt_number": 14
    },
    {
     "cell_type": "code",
     "collapsed": false,
     "input": [
      "from sklearn import linear_model\n",
      "\n",
      "X2 = cows.ix[:,1].values\n",
      "y2 = cows.ix[:,2].values\n",
      "\n",
      "X2 = np.array(X2).reshape((m,1))\n",
      "y2 = np.array(y2).reshape((m,1))\n",
      "\n",
      "\n",
      "clf = linear_model.LinearRegression()\n",
      "clf.fit(X2, y2)\n",
      "\n",
      "print clf.coef_, clf.intercept_"
     ],
     "language": "python",
     "metadata": {},
     "outputs": [
      {
       "output_type": "stream",
       "stream": "stdout",
       "text": [
        "[[ 1.2596269]] [ 765.32711154]\n"
       ]
      }
     ],
     "prompt_number": 15
    },
    {
     "cell_type": "code",
     "collapsed": false,
     "input": [
      "print 'For a weight of 700kgs:'\n",
      "\n",
      "predict1 = array([1, .700]).dot(theta).flatten()*1000\n",
      "print 'Gradient descent predicts: %f' % (predict1)\n",
      "\n",
      "clfpred1 = clf.predict(700)[0][0]\n",
      "print 'Matrix form/sklearn predicts: %f' %(clfpred1)\n",
      "\n",
      "print '\\nFor a weight of 900kgs:'\n",
      "\n",
      "predict2 = array([1, .900]).dot(theta).flatten()*1000\n",
      "print 'Gradient descent predicts: %f' % (predict2)\n",
      "\n",
      "clfpred2 =clf.predict(900)[0][0]\n",
      "print 'Matrix form/sklearn predicts: %f' %(clfpred2)"
     ],
     "language": "python",
     "metadata": {},
     "outputs": [
      {
       "output_type": "stream",
       "stream": "stdout",
       "text": [
        "For a weight of 700kgs:\n",
        "Gradient descent predicts: 1651.615082\n",
        "Matrix form/sklearn predicts: 1647.065939\n",
        "\n",
        "For a weight of 900kgs:\n",
        "Gradient descent predicts: 1851.155122\n",
        "Matrix form/sklearn predicts: 1898.991318\n"
       ]
      }
     ],
     "prompt_number": 16
    },
    {
     "cell_type": "code",
     "collapsed": false,
     "input": [],
     "language": "python",
     "metadata": {},
     "outputs": []
    }
   ],
   "metadata": {}
  }
 ]
}